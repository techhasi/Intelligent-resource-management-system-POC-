{
  "cells": [
    {
      "cell_type": "markdown",
      "metadata": {},
      "source": [
        "## **LSTM for Cloud Resource Metrics Forecasting**\n",
        "\n",
        "**The model is designed to forecast key AWS resource metrics (EC2, RDS, and ECS CPU utilization) by leveraging historical cloud monitoring data.**"
      ]
    },
    {
      "cell_type": "markdown",
      "metadata": {},
      "source": [
        "1. Import libraries"
      ]
    },
    {
      "cell_type": "code",
      "execution_count": null,
      "metadata": {},
      "outputs": [],
      "source": [
        "import pandas as pd\n",
        "import numpy as np\n",
        "import torch\n",
        "import torch.nn as nn\n",
        "import torch.optim as optim\n",
        "from torch.utils.data import Dataset, DataLoader\n",
        "from sklearn.preprocessing import MinMaxScaler\n",
        "from sklearn.model_selection import train_test_split"
      ]
    },
    {
      "cell_type": "markdown",
      "metadata": {},
      "source": [
        "2. Mount google drive (If needed)"
      ]
    },
    {
      "cell_type": "code",
      "execution_count": null,
      "metadata": {},
      "outputs": [],
      "source": [
        "# Mount Google Drive (if using Colab)\n",
        "from google.colab import drive\n",
        "drive.mount('/content/drive')"
      ]
    },
    {
      "cell_type": "markdown",
      "metadata": {},
      "source": [
        "3. Load dataset"
      ]
    },
    {
      "cell_type": "code",
      "execution_count": null,
      "metadata": {},
      "outputs": [],
      "source": [
        "# Load dataset from Google Drive\n",
        "file_path = \"/content/drive/MyDrive/FYPDataset/reduced_merged_cloud_metrics.csv\"\n",
        "df = pd.read_csv(file_path)\n",
        "\n",
        "# Convert timestamp to datetime and set as index\n",
        "df['Timestamp'] = pd.to_datetime(df['timestamp'])\n",
        "df.set_index('Timestamp', inplace=True)"
      ]
    },
    {
      "cell_type": "markdown",
      "metadata": {},
      "source": [
        "4. Feature engineering\n",
        "\n",
        "    * Extracts time-based features such as the hour of day and day of week.\n",
        "    * Creates utilization ratios (e.g., EC2_CPU/MEM ratio).\n",
        "    * Computes rolling means to smooth out fluctuations."
      ]
    },
    {
      "cell_type": "code",
      "execution_count": null,
      "metadata": {},
      "outputs": [],
      "source": [
        "# Feature Engineering\n",
        "# Extract time-based features\n",
        "df['hour'] = df.index.hour\n",
        "df['day_of_week'] = df.index.dayofweek\n",
        "\n",
        "# Create utilization ratios\n",
        "df['EC2_CPU_Memory_Ratio'] = df['EC2_CPUUtilization'] / (df['EC2_MemoryUtilization'] + 1e-5)\n",
        "df['RDS_Connections_Per_CPU'] = df['RDS_DatabaseConnections'] / (df['RDS_CPUUtilization'] + 1e-5)\n",
        "\n",
        "# Compute moving averages\n",
        "df['EC2_CPU_rolling_mean'] = df['EC2_CPUUtilization'].rolling(window=5).mean()\n",
        "df['RDS_CPU_rolling_mean'] = df['RDS_CPUUtilization'].rolling(window=5).mean()\n",
        "df.fillna(method='bfill', inplace=True)  # Fill missing values after rolling operations\n",
        "\n",
        "# Ensure no NaN values remain\n",
        "df.dropna(inplace=True)\n",
        "\n",
        "# Select features and target variables\n",
        "features = [\n",
        "    'EC2_CPUUtilization', 'EC2_MemoryUtilization', 'EC2_DiskWriteOps', 'EC2_NetworkIn',\n",
        "    'RDS_CPUUtilization', 'RDS_FreeableMemory', 'RDS_DatabaseConnections', 'RDS_WriteIOPS',\n",
        "    'ECS_CPUUtilization', 'ECS_MemoryUtilization', 'ECS_RunningTaskCount',\n",
        "    'hour', 'day_of_week', 'EC2_CPU_Memory_Ratio', 'RDS_Connections_Per_CPU',\n",
        "    'EC2_CPU_rolling_mean', 'RDS_CPU_rolling_mean'\n",
        "]\n",
        "\n",
        "target_cols = ['EC2_CPUUtilization', 'RDS_CPUUtilization', 'ECS_CPUUtilization']"
      ]
    },
    {
      "cell_type": "markdown",
      "metadata": {},
      "source": [
        "5. Normalize data using MinMaxScaler"
      ]
    },
    {
      "cell_type": "code",
      "execution_count": null,
      "metadata": {},
      "outputs": [],
      "source": [
        "# Normalize data\n",
        "scaler = MinMaxScaler()\n",
        "df[features] = scaler.fit_transform(df[features])"
      ]
    },
    {
      "cell_type": "markdown",
      "metadata": {},
      "source": [
        "6. Sequence creation for LSTM input"
      ]
    },
    {
      "cell_type": "code",
      "execution_count": null,
      "metadata": {},
      "outputs": [],
      "source": [
        "# Convert dataset to sequences for LSTM\n",
        "SEQ_LENGTH = 30  # Using past 30 timesteps to predict the next step\n",
        "\n",
        "def create_sequences(data, target_cols, seq_length):\n",
        "    sequences, labels = [], []\n",
        "    target_indices = [features.index(col) for col in target_cols]\n",
        "    for i in range(len(data) - seq_length):\n",
        "        sequences.append(data[i:i+seq_length])\n",
        "        labels.append([data[i+seq_length, idx] for idx in target_indices])  # Ensure proper label extraction\n",
        "    return np.array(sequences), np.array(labels)\n",
        "\n",
        "# Prepare input-output sequences\n",
        "data = df[features].values\n",
        "sequences, labels = create_sequences(data, target_cols, SEQ_LENGTH)\n",
        "\n",
        "# Train-test split\n",
        "X_train, X_test, y_train, y_test = train_test_split(sequences, labels, test_size=0.2, random_state=42, shuffle=False)\n",
        "\n",
        "# Convert data to PyTorch tensors\n",
        "X_train_tensor = torch.tensor(X_train, dtype=torch.float32)\n",
        "y_train_tensor = torch.tensor(y_train, dtype=torch.float32)\n",
        "X_test_tensor = torch.tensor(X_test, dtype=torch.float32)\n",
        "y_test_tensor = torch.tensor(y_test, dtype=torch.float32)"
      ]
    },
    {
      "cell_type": "markdown",
      "metadata": {},
      "source": [
        "7. Defining PyTorch dataset"
      ]
    },
    {
      "cell_type": "code",
      "execution_count": null,
      "metadata": {},
      "outputs": [],
      "source": [
        "# Define PyTorch dataset\n",
        "class CloudDataset(Dataset):\n",
        "    def __init__(self, X, y):\n",
        "        self.X = X\n",
        "        self.y = y\n",
        "\n",
        "    def __len__(self):\n",
        "        return len(self.X)\n",
        "\n",
        "    def __getitem__(self, idx):\n",
        "        return self.X[idx], self.y[idx]\n",
        "\n",
        "train_dataset = CloudDataset(X_train_tensor, y_train_tensor)\n",
        "test_dataset = CloudDataset(X_test_tensor, y_test_tensor)\n",
        "\n",
        "train_loader = DataLoader(train_dataset, batch_size=64, shuffle=True)\n",
        "test_loader = DataLoader(test_dataset, batch_size=64, shuffle=False)"
      ]
    },
    {
      "cell_type": "markdown",
      "metadata": {},
      "source": [
        "8. Defining LSTM model"
      ]
    },
    {
      "cell_type": "code",
      "execution_count": null,
      "metadata": {},
      "outputs": [],
      "source": [
        "# Define Bidirectional LSTM Model\n",
        "class BiLSTMModel(nn.Module):\n",
        "    def __init__(self, input_size, hidden_size, num_layers, output_size):\n",
        "        super(BiLSTMModel, self).__init__()\n",
        "        self.lstm = nn.LSTM(input_size, hidden_size, num_layers, batch_first=True, dropout=0.2, bidirectional=True)\n",
        "        self.fc = nn.Linear(hidden_size * 2, output_size)  \n",
        "\n",
        "    def forward(self, x):\n",
        "        lstm_out, _ = self.lstm(x)\n",
        "        return self.fc(lstm_out[:, -1, :])  # Taking only last LSTM output\n",
        "\n",
        "# Model parameters\n",
        "input_size = len(features)  # Number of input features\n",
        "hidden_size = 256  #  LSTM hidden units\n",
        "num_layers = 3  #  LSTM layers\n",
        "output_size = len(target_cols)  # Predicting EC2, RDS, ECS CPU utilization"
      ]
    },
    {
      "cell_type": "markdown",
      "metadata": {},
      "source": [
        "9. Trainig loop"
      ]
    },
    {
      "cell_type": "code",
      "execution_count": null,
      "metadata": {},
      "outputs": [],
      "source": [
        "# Initialize model\n",
        "device = torch.device(\"cuda\" if torch.cuda.is_available() else \"cpu\")\n",
        "model = BiLSTMModel(input_size, hidden_size, num_layers, output_size).to(device)\n",
        "criterion = nn.MSELoss()\n",
        "optimizer = optim.Adam(model.parameters(), lr=0.0005)\n",
        "scheduler = torch.optim.lr_scheduler.StepLR(optimizer, step_size=5, gamma=0.8)  # Learning rate scheduling\n",
        "\n",
        "# Training loop with validation\n",
        "EPOCHS = 30\n",
        "\n",
        "for epoch in range(EPOCHS):\n",
        "    model.train()\n",
        "    total_train_loss = 0\n",
        "    for batch_X, batch_y in train_loader:\n",
        "        batch_X, batch_y = batch_X.to(device), batch_y.to(device)\n",
        "        optimizer.zero_grad()\n",
        "        output = model(batch_X)\n",
        "        loss = criterion(output, batch_y)\n",
        "        loss.backward()\n",
        "        torch.nn.utils.clip_grad_norm_(model.parameters(), max_norm=1.0)  # Gradient clipping\n",
        "        optimizer.step()\n",
        "\n",
        "        total_train_loss += loss.item()\n",
        "    scheduler.step()\n",
        "\n",
        "    model.eval()\n",
        "    total_val_loss = 0\n",
        "    with torch.no_grad():\n",
        "        for batch_X, batch_y in test_loader:\n",
        "            batch_X, batch_y = batch_X.to(device), batch_y.to(device)\n",
        "            output = model(batch_X)\n",
        "            val_loss = criterion(output, batch_y)\n",
        "            total_val_loss += val_loss.item()\n",
        "\n",
        "    print(f\"Epoch {epoch+1}/{EPOCHS}, Train Loss: {total_train_loss/len(train_loader):.6f}, Val Loss: {total_val_loss/len(test_loader):.6f}\")"
      ]
    },
    {
      "cell_type": "markdown",
      "metadata": {},
      "source": [
        "10. Save the model"
      ]
    },
    {
      "cell_type": "code",
      "execution_count": null,
      "metadata": {},
      "outputs": [],
      "source": [
        "# Save the trained model to Google Drive\n",
        "model_path = \"/content/drive/MyDrive/lstm_cloud_model.pth\"\n",
        "torch.save(model.state_dict(), model_path)\n",
        "\n",
        "print(f\"Model saved at: {model_path}\")"
      ]
    },
    {
      "cell_type": "markdown",
      "metadata": {},
      "source": [
        "Prediction and evaluation"
      ]
    },
    {
      "cell_type": "code",
      "execution_count": null,
      "metadata": {
        "colab": {
          "base_uri": "https://localhost:8080/"
        },
        "id": "MLyW7-VVtYSP",
        "outputId": "1293750d-1f30-48f3-8723-3d4b9c5763e6"
      },
      "outputs": [
        {
          "name": "stdout",
          "output_type": "stream",
          "text": [
            "Mounted at /content/drive\n"
          ]
        },
        {
          "name": "stderr",
          "output_type": "stream",
          "text": [
            "<ipython-input-1-62449fac093b>:35: FutureWarning: DataFrame.fillna with 'method' is deprecated and will raise in a future version. Use obj.ffill() or obj.bfill() instead.\n",
            "  df.fillna(method='bfill', inplace=True)  # Fill missing values after rolling operations\n",
            "<ipython-input-1-62449fac093b>:117: FutureWarning: You are using `torch.load` with `weights_only=False` (the current default value), which uses the default pickle module implicitly. It is possible to construct malicious pickle data which will execute arbitrary code during unpickling (See https://github.com/pytorch/pytorch/blob/main/SECURITY.md#untrusted-models for more details). In a future release, the default value for `weights_only` will be flipped to `True`. This limits the functions that could be executed during unpickling. Arbitrary objects will no longer be allowed to be loaded via this mode unless they are explicitly allowlisted by the user via `torch.serialization.add_safe_globals`. We recommend you start setting `weights_only=True` for any use case where you don't have full control of the loaded file. Please open an issue on GitHub for any issues related to this experimental feature.\n",
            "  model.load_state_dict(torch.load(\"/content/drive/MyDrive/lstm_cloud_modelchatgptv2.pth\"))\n"
          ]
        },
        {
          "name": "stdout",
          "output_type": "stream",
          "text": [
            "MAE: 0.14171988609271347, MSE: 0.04300476521869622, RMSE: 0.20737590317752982\n",
            "Predictions saved at: /content/drive/MyDrive/lstm_predictions.csv\n"
          ]
        }
      ],
      "source": [
        "import pandas as pd\n",
        "import numpy as np\n",
        "import torch\n",
        "import torch.nn as nn\n",
        "import torch.optim as optim\n",
        "from torch.utils.data import Dataset, DataLoader\n",
        "from sklearn.preprocessing import MinMaxScaler\n",
        "from sklearn.model_selection import train_test_split\n",
        "from sklearn.metrics import mean_absolute_error, mean_squared_error\n",
        "\n",
        "# Mount Google Drive (if using Colab)\n",
        "from google.colab import drive\n",
        "drive.mount('/content/drive')\n",
        "\n",
        "# Load dataset from Google Drive\n",
        "file_path = \"/content/drive/MyDrive/FYPDataset/reduced_merged_cloud_metrics.csv\"\n",
        "df = pd.read_csv(file_path)\n",
        "\n",
        "# Convert timestamp to datetime and set as index\n",
        "df['Timestamp'] = pd.to_datetime(df['timestamp'])\n",
        "df.set_index('Timestamp', inplace=True)\n",
        "\n",
        "# Feature Engineering\n",
        "# Extract time-based features\n",
        "df['hour'] = df.index.hour\n",
        "df['day_of_week'] = df.index.dayofweek\n",
        "\n",
        "# Create utilization ratios\n",
        "df['EC2_CPU_Memory_Ratio'] = df['EC2_CPUUtilization'] / (df['EC2_MemoryUtilization'] + 1e-5)\n",
        "df['RDS_Connections_Per_CPU'] = df['RDS_DatabaseConnections'] / (df['RDS_CPUUtilization'] + 1e-5)\n",
        "\n",
        "# Compute moving averages\n",
        "df['EC2_CPU_rolling_mean'] = df['EC2_CPUUtilization'].rolling(window=5).mean()\n",
        "df['RDS_CPU_rolling_mean'] = df['RDS_CPUUtilization'].rolling(window=5).mean()\n",
        "df.fillna(method='bfill', inplace=True)  # Fill missing values after rolling operations\n",
        "\n",
        "# Ensure no NaN values remain\n",
        "df.dropna(inplace=True)\n",
        "\n",
        "# Select features and target variables\n",
        "features = [\n",
        "    'EC2_CPUUtilization', 'EC2_MemoryUtilization', 'EC2_DiskWriteOps', 'EC2_NetworkIn',\n",
        "    'RDS_CPUUtilization', 'RDS_FreeableMemory', 'RDS_DatabaseConnections', 'RDS_WriteIOPS',\n",
        "    'ECS_CPUUtilization', 'ECS_MemoryUtilization', 'ECS_RunningTaskCount',\n",
        "    'hour', 'day_of_week', 'EC2_CPU_Memory_Ratio', 'RDS_Connections_Per_CPU',\n",
        "    'EC2_CPU_rolling_mean', 'RDS_CPU_rolling_mean'\n",
        "]\n",
        "\n",
        "target_cols = ['EC2_CPUUtilization', 'RDS_CPUUtilization', 'ECS_CPUUtilization']\n",
        "\n",
        "# Normalize data\n",
        "scaler = MinMaxScaler()\n",
        "df[features] = scaler.fit_transform(df[features])\n",
        "\n",
        "# Convert dataset to sequences for LSTM\n",
        "SEQ_LENGTH = 30  # Using past 30 timesteps to predict the next step\n",
        "\n",
        "def create_sequences(data, target_cols, seq_length):\n",
        "    sequences, labels = [], []\n",
        "    target_indices = [features.index(col) for col in target_cols]\n",
        "    for i in range(len(data) - seq_length):\n",
        "        sequences.append(data[i:i+seq_length])\n",
        "        labels.append([data[i+seq_length, idx] for idx in target_indices])  # Ensure proper label extraction\n",
        "    return np.array(sequences), np.array(labels)\n",
        "\n",
        "# Prepare input-output sequences\n",
        "data = df[features].values\n",
        "sequences, labels = create_sequences(data, target_cols, SEQ_LENGTH)\n",
        "\n",
        "# Train-test split\n",
        "X_train, X_test, y_train, y_test = train_test_split(sequences, labels, test_size=0.2, random_state=42, shuffle=False)\n",
        "\n",
        "# Convert data to PyTorch tensors\n",
        "X_train_tensor = torch.tensor(X_train, dtype=torch.float32)\n",
        "y_train_tensor = torch.tensor(y_train, dtype=torch.float32)\n",
        "X_test_tensor = torch.tensor(X_test, dtype=torch.float32)\n",
        "y_test_tensor = torch.tensor(y_test, dtype=torch.float32)\n",
        "\n",
        "# Define PyTorch dataset\n",
        "class CloudDataset(Dataset):\n",
        "    def __init__(self, X, y):\n",
        "        self.X = X\n",
        "        self.y = y\n",
        "\n",
        "    def __len__(self):\n",
        "        return len(self.X)\n",
        "\n",
        "    def __getitem__(self, idx):\n",
        "        return self.X[idx], self.y[idx]\n",
        "\n",
        "train_dataset = CloudDataset(X_train_tensor, y_train_tensor)\n",
        "test_dataset = CloudDataset(X_test_tensor, y_test_tensor)\n",
        "\n",
        "train_loader = DataLoader(train_dataset, batch_size=64, shuffle=True)\n",
        "test_loader = DataLoader(test_dataset, batch_size=64, shuffle=False)\n",
        "\n",
        "# Define Bidirectional LSTM Model\n",
        "class BiLSTMModel(nn.Module):\n",
        "    def __init__(self, input_size, hidden_size, num_layers, output_size):\n",
        "        super(BiLSTMModel, self).__init__()\n",
        "        self.lstm = nn.LSTM(input_size, hidden_size, num_layers, batch_first=True, dropout=0.2, bidirectional=True)\n",
        "        self.fc = nn.Linear(hidden_size * 2, output_size)  # Adjust output for bidirectional LSTM\n",
        "\n",
        "    def forward(self, x):\n",
        "        lstm_out, _ = self.lstm(x)\n",
        "        return self.fc(lstm_out[:, -1, :])  # Taking only last LSTM output\n",
        "\n",
        "# Model parameters\n",
        "input_size = len(features)\n",
        "hidden_size = 256\n",
        "num_layers = 3\n",
        "output_size = len(target_cols)\n",
        "\n",
        "# Initialize model\n",
        "device = torch.device(\"cuda\" if torch.cuda.is_available() else \"cpu\")\n",
        "model = BiLSTMModel(input_size, hidden_size, num_layers, output_size).to(device)\n",
        "model.load_state_dict(torch.load(\"/content/drive/MyDrive/lstm_cloud_model.pth\"))\n",
        "model.eval()\n",
        "\n",
        "# Function to make predictions\n",
        "def predict(model, X_test_tensor, device):\n",
        "    model.to(device)\n",
        "    X_test_tensor = X_test_tensor.to(device)\n",
        "    with torch.no_grad():\n",
        "        predictions = model(X_test_tensor).cpu().numpy()\n",
        "    return predictions\n",
        "\n",
        "# Generate predictions\n",
        "y_pred = predict(model, X_test_tensor, device)\n",
        "\n",
        "# Inverse transform predictions to original scale\n",
        "y_pred_original = scaler.inverse_transform(np.hstack((y_pred, np.zeros((y_pred.shape[0], len(features) - len(target_cols))))))[:, :len(target_cols)]\n",
        "\n",
        "# Save predictions\n",
        "predictions_df = pd.DataFrame(y_pred_original, columns=target_cols)\n",
        "predictions_df.to_csv(\"/content/drive/MyDrive/lstm_predictions.csv\", index=False)\n",
        "\n",
        "# Function to calculate accuracy metrics\n",
        "def calculate_accuracy(y_true, y_pred):\n",
        "    mae = mean_absolute_error(y_true, y_pred)\n",
        "    mse = mean_squared_error(y_true, y_pred)\n",
        "    rmse = np.sqrt(mse)\n",
        "    return mae, mse, rmse\n",
        "\n",
        "# Compute accuracy\n",
        "mae, mse, rmse = calculate_accuracy(y_test, y_pred)\n",
        "print(f\"MAE: {mae}, MSE: {mse}, RMSE: {rmse}\")\n",
        "\n",
        "print(\"Predictions saved\")\n"
      ]
    }
  ],
  "metadata": {
    "accelerator": "GPU",
    "colab": {
      "gpuType": "A100",
      "machine_shape": "hm",
      "provenance": []
    },
    "kernelspec": {
      "display_name": "Python 3",
      "name": "python3"
    },
    "language_info": {
      "name": "python"
    }
  },
  "nbformat": 4,
  "nbformat_minor": 0
}
